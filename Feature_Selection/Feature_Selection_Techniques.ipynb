{
  "nbformat": 4,
  "nbformat_minor": 0,
  "metadata": {
    "colab": {
      "name": "Feature_Selection_Techniques.ipynb",
      "provenance": [],
      "collapsed_sections": []
    },
    "kernelspec": {
      "name": "python3",
      "display_name": "Python 3"
    }
  },
  "cells": [
    {
      "cell_type": "markdown",
      "metadata": {
        "id": "QlWVjpLc3GG4",
        "colab_type": "text"
      },
      "source": [
        "# Feature Selection\n",
        "Feature Selection is one of the core concepts in machine learning which hugely impacts the performance of your model. The data features that you use to train your machine learning models have a huge influence on the performance you can achieve.\n",
        "\n",
        "Irrelevant or partially relevant features can negatively impact model performance."
      ]
    },
    {
      "cell_type": "markdown",
      "metadata": {
        "id": "FGvfO6jL31YK",
        "colab_type": "text"
      },
      "source": [
        "## Benefits of performing feature selection:\n",
        "\n",
        "- **Reduces Overfitting:** Less redundant data means less \n",
        "opportunity to make decisions based on noise(irrelevant data).\n",
        "- **Improves Accuracy:** Less misleading data means model's accuracy improves.\n",
        "- **Reduces Training Time:** Less data means that algorithms train faster."
      ]
    },
    {
      "cell_type": "markdown",
      "metadata": {
        "id": "rQmqQu1x5TQJ",
        "colab_type": "text"
      },
      "source": [
        "Out of the numerous feature selection techniques, we'll be discussing 4 here.\n",
        "\n",
        "1. Recursive Feature Elimination (RFE)\n",
        "2. Feature Importance using Random Forest Classifier\n",
        "3. Boruta\n",
        "4. XGBoost\n",
        "\n",
        "**All the techniques will be implemented independent of each other and not in succession.**\n"
      ]
    },
    {
      "cell_type": "markdown",
      "metadata": {
        "id": "-nNgRUMD0Vf5",
        "colab_type": "text"
      },
      "source": [
        "## About Dataset\n",
        "**Context** \n",
        "\n",
        "This dataset is originally from the National Institute of Diabetes and Digestive and Kidney Diseases. The objective of the dataset is to diagnostically predict whether or not a patient has diabetes, based on certain diagnostic measurements included in the dataset. Several constraints were placed on the selection of these instances from a larger database. In particular, all patients here are females at least 21 years old of Pima Indian heritage.\n",
        "\n",
        "**Content**\n",
        "\n",
        "The datasets consists of several medical predictor variables and one target variable, class (whether patient have diabetes or not). Predictor variables includes the number of pregnancies the patient has had, their BMI, insulin level, age, and so on.\n",
        "\n",
        "**Data Description**\n",
        "\n",
        "*  **preg:** Number of times the patient had been pregnant\n",
        "*  **glucose:** Plasma glucose concentration a 2 hours in an oral glucose tolerance test\n",
        "*  **bp:** Diastolic blood pressure (mm Hg)\n",
        "*  **skin:** Triceps skin fold thickness (mm)\n",
        "*  **insulin:** 2-Hour serum insulin (mu U/ml)\n",
        "*  **bmi:** Body mass index (weight in kg/(height in m)^2)\n",
        "*  **pedi:** Diabetes pedigree function\n",
        "*  **age:** Age of the patient in years\n",
        "*  **class:** Have diabetes or not (0 means have no diabetes; 1 means have diabetes);  268 of 768 are 1, the others are 0\n",
        "\n",
        "You can take the help of google to know more about some of the medical terms used here."
      ]
    },
    {
      "cell_type": "code",
      "metadata": {
        "id": "Os3f9Ak03Itl",
        "colab_type": "code",
        "colab": {
          "base_uri": "https://localhost:8080/",
          "height": 71
        },
        "outputId": "5d9c714b-6dbd-424f-a848-f06dc0904b73"
      },
      "source": [
        "# Importing packages\n",
        "import numpy as np # for array related operations\n",
        "import pandas as pd # to read csv\n",
        "import matplotlib.pyplot as plt # for visualisation\n",
        "import seaborn as sns # for visualisation\n",
        "\n",
        "# ignoring the warnings\n",
        "import warnings\n",
        "warnings.filterwarnings('ignore')"
      ],
      "execution_count": null,
      "outputs": [
        {
          "output_type": "stream",
          "text": [
            "/usr/local/lib/python3.6/dist-packages/statsmodels/tools/_testing.py:19: FutureWarning: pandas.util.testing is deprecated. Use the functions in the public API at pandas.testing instead.\n",
            "  import pandas.util.testing as tm\n"
          ],
          "name": "stderr"
        }
      ]
    },
    {
      "cell_type": "code",
      "metadata": {
        "id": "z2S9zls5GwFb",
        "colab_type": "code",
        "colab": {
          "base_uri": "https://localhost:8080/",
          "height": 203
        },
        "outputId": "21d761ec-3165-4a99-8500-87bce511cc70"
      },
      "source": [
        "# load data\n",
        "\n",
        "col_names = ['preg', 'glucose', 'bp', 'skin', 'insulin', 'bmi', 'pedi', 'age', 'class']\n",
        "data = pd.read_csv(\"https://raw.githubusercontent.com/dphi-official/Datasets/master/pima-indians-diabetes.csv\", names=col_names)\n",
        "# names=col_names assigns the given names to the DataFrame columns (just to make the names shorter)\n",
        "\n",
        "data.head()"
      ],
      "execution_count": null,
      "outputs": [
        {
          "output_type": "execute_result",
          "data": {
            "text/html": [
              "<div>\n",
              "<style scoped>\n",
              "    .dataframe tbody tr th:only-of-type {\n",
              "        vertical-align: middle;\n",
              "    }\n",
              "\n",
              "    .dataframe tbody tr th {\n",
              "        vertical-align: top;\n",
              "    }\n",
              "\n",
              "    .dataframe thead th {\n",
              "        text-align: right;\n",
              "    }\n",
              "</style>\n",
              "<table border=\"1\" class=\"dataframe\">\n",
              "  <thead>\n",
              "    <tr style=\"text-align: right;\">\n",
              "      <th></th>\n",
              "      <th>preg</th>\n",
              "      <th>glucose</th>\n",
              "      <th>bp</th>\n",
              "      <th>skin</th>\n",
              "      <th>insulin</th>\n",
              "      <th>bmi</th>\n",
              "      <th>pedi</th>\n",
              "      <th>age</th>\n",
              "      <th>class</th>\n",
              "    </tr>\n",
              "  </thead>\n",
              "  <tbody>\n",
              "    <tr>\n",
              "      <th>0</th>\n",
              "      <td>6</td>\n",
              "      <td>148</td>\n",
              "      <td>72</td>\n",
              "      <td>35</td>\n",
              "      <td>0</td>\n",
              "      <td>33.6</td>\n",
              "      <td>0.627</td>\n",
              "      <td>50</td>\n",
              "      <td>1</td>\n",
              "    </tr>\n",
              "    <tr>\n",
              "      <th>1</th>\n",
              "      <td>1</td>\n",
              "      <td>85</td>\n",
              "      <td>66</td>\n",
              "      <td>29</td>\n",
              "      <td>0</td>\n",
              "      <td>26.6</td>\n",
              "      <td>0.351</td>\n",
              "      <td>31</td>\n",
              "      <td>0</td>\n",
              "    </tr>\n",
              "    <tr>\n",
              "      <th>2</th>\n",
              "      <td>8</td>\n",
              "      <td>183</td>\n",
              "      <td>64</td>\n",
              "      <td>0</td>\n",
              "      <td>0</td>\n",
              "      <td>23.3</td>\n",
              "      <td>0.672</td>\n",
              "      <td>32</td>\n",
              "      <td>1</td>\n",
              "    </tr>\n",
              "    <tr>\n",
              "      <th>3</th>\n",
              "      <td>1</td>\n",
              "      <td>89</td>\n",
              "      <td>66</td>\n",
              "      <td>23</td>\n",
              "      <td>94</td>\n",
              "      <td>28.1</td>\n",
              "      <td>0.167</td>\n",
              "      <td>21</td>\n",
              "      <td>0</td>\n",
              "    </tr>\n",
              "    <tr>\n",
              "      <th>4</th>\n",
              "      <td>0</td>\n",
              "      <td>137</td>\n",
              "      <td>40</td>\n",
              "      <td>35</td>\n",
              "      <td>168</td>\n",
              "      <td>43.1</td>\n",
              "      <td>2.288</td>\n",
              "      <td>33</td>\n",
              "      <td>1</td>\n",
              "    </tr>\n",
              "  </tbody>\n",
              "</table>\n",
              "</div>"
            ],
            "text/plain": [
              "   preg  glucose  bp  skin  insulin   bmi   pedi  age  class\n",
              "0     6      148  72    35        0  33.6  0.627   50      1\n",
              "1     1       85  66    29        0  26.6  0.351   31      0\n",
              "2     8      183  64     0        0  23.3  0.672   32      1\n",
              "3     1       89  66    23       94  28.1  0.167   21      0\n",
              "4     0      137  40    35      168  43.1  2.288   33      1"
            ]
          },
          "metadata": {
            "tags": []
          },
          "execution_count": 2
        }
      ]
    },
    {
      "cell_type": "code",
      "metadata": {
        "id": "VdIISSbI3ZjM",
        "colab_type": "code",
        "colab": {
          "base_uri": "https://localhost:8080/",
          "height": 291
        },
        "outputId": "f66204b3-43bd-400a-c19d-920da942c42e"
      },
      "source": [
        "data.info()"
      ],
      "execution_count": null,
      "outputs": [
        {
          "output_type": "stream",
          "text": [
            "<class 'pandas.core.frame.DataFrame'>\n",
            "RangeIndex: 768 entries, 0 to 767\n",
            "Data columns (total 9 columns):\n",
            " #   Column   Non-Null Count  Dtype  \n",
            "---  ------   --------------  -----  \n",
            " 0   preg     768 non-null    int64  \n",
            " 1   glucose  768 non-null    int64  \n",
            " 2   bp       768 non-null    int64  \n",
            " 3   skin     768 non-null    int64  \n",
            " 4   insulin  768 non-null    int64  \n",
            " 5   bmi      768 non-null    float64\n",
            " 6   pedi     768 non-null    float64\n",
            " 7   age      768 non-null    int64  \n",
            " 8   class    768 non-null    int64  \n",
            "dtypes: float64(2), int64(7)\n",
            "memory usage: 54.1 KB\n"
          ],
          "name": "stdout"
        }
      ]
    },
    {
      "cell_type": "code",
      "metadata": {
        "id": "6Dep82VW3gVa",
        "colab_type": "code",
        "colab": {
          "base_uri": "https://localhost:8080/",
          "height": 68
        },
        "outputId": "cfce8d8f-c269-4257-fa13-89acd813eac9"
      },
      "source": [
        "data['class'].value_counts()"
      ],
      "execution_count": null,
      "outputs": [
        {
          "output_type": "execute_result",
          "data": {
            "text/plain": [
              "0    500\n",
              "1    268\n",
              "Name: class, dtype: int64"
            ]
          },
          "metadata": {
            "tags": []
          },
          "execution_count": 4
        }
      ]
    },
    {
      "cell_type": "markdown",
      "metadata": {
        "id": "Lo9asLowBY4T",
        "colab_type": "text"
      },
      "source": [
        "## Correlation Matrix with Heatmap\n",
        "Correlation states how the features are related to each other or the target variable.\n",
        "\n",
        "Correlation can be positive (increase in one value of feature increases the value of the target variable) or negative (increase in one value of feature decreases the value of the target variable)\n",
        "\n",
        "Heatmap makes it easy to identify which features are most related to the target variable, we will plot heatmap of correlated features using the seaborn library."
      ]
    },
    {
      "cell_type": "code",
      "metadata": {
        "id": "0m9SSKEb_96F",
        "colab_type": "code",
        "colab": {
          "base_uri": "https://localhost:8080/",
          "height": 395
        },
        "outputId": "4c348d27-2d84-4aa2-8c26-90f1e7c47d36"
      },
      "source": [
        "#get correlations of each features in dataset\n",
        "corrmat = data.corr()\n",
        "plt.figure(figsize=(10,6))\n",
        "sns.heatmap(corrmat, annot=True, cmap=\"RdYlGn\")"
      ],
      "execution_count": null,
      "outputs": [
        {
          "output_type": "execute_result",
          "data": {
            "text/plain": [
              "<matplotlib.axes._subplots.AxesSubplot at 0x7f01fc5af438>"
            ]
          },
          "metadata": {
            "tags": []
          },
          "execution_count": 5
        },
        {
          "output_type": "display_data",
          "data": {
            "image/png": "[encoded data removed]",
            "text/plain": [
              "<Figure size 720x432 with 2 Axes>"
            ]
          },
          "metadata": {
            "tags": [],
            "needs_background": "light"
          }
        }
      ]
    },
    {
      "cell_type": "markdown",
      "metadata": {
        "id": "uHH9QXRfB7tG",
        "colab_type": "text"
      },
      "source": [
        "We can see from an initial analysis of the heatmap that glucose, bmi, age, preg, pedi and insulin are the top 6 features that have relatively high correlation(positive) with class(our target variable). It means that as they increase, diabetes of the patient also increases.\n",
        "\n",
        "Also, age and preg are highly correlated with each other."
      ]
    },
    {
      "cell_type": "markdown",
      "metadata": {
        "id": "vre_OKxJ-PkU",
        "colab_type": "text"
      },
      "source": [
        "Now, you might say why not remove irrelevant features by intuition or just looking at the heatmap?\n",
        "\n",
        "In general **it’s advisable not to be influenced by one’s bias or intuition**.\n",
        "\n",
        "In a real-life situation, we would have to deal with more than 3 features (from some hundreds to many thousands, typically). Thus, it would be unfeasible to go through each of them and decide whether to keep it or not. Moreover, there might be relationships among variables that are not easily spotted by a human eye, not even with accurate analysis.\n",
        "\n",
        "Ideally, we would like to find an algorithm that is able to autonomously decide whether any given feature of X bears some predictive value about y."
      ]
    },
    {
      "cell_type": "code",
      "metadata": {
        "id": "E6m5FPAvLXgy",
        "colab_type": "code",
        "colab": {}
      },
      "source": [
        "# Splitting data into Input and Target Variable\n",
        "\n",
        "y = data['class']  # target variable i.e diabetic or not\n",
        "X = data.drop(['class'], axis=1)  # input variables"
      ],
      "execution_count": null,
      "outputs": []
    },
    {
      "cell_type": "code",
      "metadata": {
        "id": "7MocdFG9GGHT",
        "colab_type": "code",
        "colab": {}
      },
      "source": [
        "# Split into train and test sets\n",
        "from sklearn.model_selection import train_test_split\n",
        "\n",
        "X_train, X_test, y_train, y_test = train_test_split(X, y, \n",
        "                                                    test_size=0.33, \n",
        "                                                    random_state=8)"
      ],
      "execution_count": null,
      "outputs": []
    },
    {
      "cell_type": "markdown",
      "metadata": {
        "id": "lPw-Ziz_9Eqr",
        "colab_type": "text"
      },
      "source": [
        "## Basic Steps\n",
        "The steps that we'll follow will look like:\n",
        "- Train a baseline classifier ( any classifier like logistic regression or random forest trained with all the features in dataset)\n",
        "- Identify the most important features using a feature selection technique\n",
        "- Create a new ‘limited features’ dataset containing only those features\n",
        "-  Train a second classifier on this new dataset\n",
        "- Compare the accuracy of the ‘full featured’(baseline) classifier to the accuracy of the ‘limited featured’(new) classifier"
      ]
    },
    {
      "cell_type": "markdown",
      "metadata": {
        "id": "1yQJ46EGF4JC",
        "colab_type": "text"
      },
      "source": [
        "## Baseline Model\n",
        "\n",
        "This is the basic Logistic Regression model we'll use to check if the first feature selection technique makes any improvements."
      ]
    },
    {
      "cell_type": "code",
      "metadata": {
        "id": "zqm3SBtbQAn4",
        "colab_type": "code",
        "colab": {}
      },
      "source": [
        "# Building the Logistic Regression model\n",
        "from sklearn.linear_model import LogisticRegression\n",
        "\n",
        "clf_lr = LogisticRegression()      \n",
        "lr_baseline_model = clf_lr.fit(X_train,y_train)"
      ],
      "execution_count": null,
      "outputs": []
    },
    {
      "cell_type": "code",
      "metadata": {
        "id": "mZke3y8TG0-q",
        "colab_type": "code",
        "colab": {
          "base_uri": "https://localhost:8080/",
          "height": 51
        },
        "outputId": "981dff08-4de9-46c5-f7e1-1e472b26d3e2"
      },
      "source": [
        "# Noting down accuracy of the baseline model\n",
        "from sklearn.metrics import accuracy_score, f1_score\n",
        "\n",
        "# finding our predicted values\n",
        "y_pred = lr_baseline_model.predict(X_test)\n",
        "\n",
        "# Calculating the accuracy and F1 Score by comparing the actual and predicted values\n",
        "ac = accuracy_score(y_test, y_pred)\n",
        "f_score = f1_score(y_test ,y_pred)\n",
        "\n",
        "print(\"Baseline Model Accuracy:\", ac)\n",
        "print(\"Baseline Model F1 Score:\", f_score)"
      ],
      "execution_count": null,
      "outputs": [
        {
          "output_type": "stream",
          "text": [
            "Baseline Model Accuracy: 0.7677165354330708\n",
            "Baseline Model F1 Score: 0.6143790849673203\n"
          ],
          "name": "stdout"
        }
      ]
    },
    {
      "cell_type": "markdown",
      "metadata": {
        "id": "mOaGv4BjYGgE",
        "colab_type": "text"
      },
      "source": [
        "# Now let's start implementing feature selection and see if it makes any difference!"
      ]
    },
    {
      "cell_type": "markdown",
      "metadata": {
        "id": "K0Pc-qvqsjpV",
        "colab_type": "text"
      },
      "source": [
        "## 1. Recursive Feature Elimination (RFE)\n",
        "\n",
        "Recursive = Something that happens repeatedly\n",
        "\n",
        "As the name suggests, Recursive Feature Elimination works by recursively(repeatedly) removing features and building a model on the features that remain.\n",
        "\n",
        "It uses model accuracy to identify which features (and combinations of attributes) contribute the most to predicting the target variable.\n",
        "\n",
        "The example below uses RFE with the logistic regression algorithm to select the top 3 features. The choice of algorithm does not matter, instead of logistic we can use any other algorithm that is skillful and consistent."
      ]
    },
    {
      "cell_type": "code",
      "metadata": {
        "id": "oIsKQtSFqmzH",
        "colab_type": "code",
        "colab": {}
      },
      "source": [
        "from sklearn.feature_selection import RFE\n",
        "\n",
        "# feature extraction\n",
        "rfe = RFE(estimator= clf_lr , step = 1) \n",
        "# estimator is the model we're taking as the baseline model (basic model)\n",
        "# step = 1: removes one feature at a time and then builds a model on the remaining features\n",
        "# It uses the model accuracy to identify which features (and combination of features) contribute the most to predicting the target variable.\n",
        "# we can even provide no. of features as an argument "
      ],
      "execution_count": null,
      "outputs": []
    },
    {
      "cell_type": "code",
      "metadata": {
        "id": "GKIz5j6p4Lvq",
        "colab_type": "code",
        "colab": {}
      },
      "source": [
        "# Fit the function for ranking the features\n",
        "fit = rfe.fit(X_train, y_train)"
      ],
      "execution_count": null,
      "outputs": []
    },
    {
      "cell_type": "code",
      "metadata": {
        "id": "nli-ySm14Pp6",
        "colab_type": "code",
        "colab": {
          "base_uri": "https://localhost:8080/",
          "height": 68
        },
        "outputId": "c616a3bd-741f-49b2-9dce-78e1fb0c1ac5"
      },
      "source": [
        "print(\"Num Features: %d\" % fit.n_features_)\n",
        "print(\"Selected Features: %s\" % fit.support_)\n",
        "print(\"Feature Ranking: %s\" % fit.ranking_)"
      ],
      "execution_count": null,
      "outputs": [
        {
          "output_type": "stream",
          "text": [
            "Num Features: 4\n",
            "Selected Features: [ True  True False False False  True  True False]\n",
            "Feature Ranking: [1 1 2 4 5 1 1 3]\n"
          ],
          "name": "stdout"
        }
      ]
    },
    {
      "cell_type": "markdown",
      "metadata": {
        "id": "qpLjtfY5Mfrt",
        "colab_type": "text"
      },
      "source": [
        "Through the output mentioned above we can't understand which feature has a better rank unless we see the index of each. In order to better visualise, we can put it in the form of a table with ranking as mentioned below."
      ]
    },
    {
      "cell_type": "code",
      "metadata": {
        "id": "4SA-TOZfMi64",
        "colab_type": "code",
        "colab": {
          "base_uri": "https://localhost:8080/",
          "height": 295
        },
        "outputId": "9bb247ea-3b57-4314-d5dd-afb765ce43ce"
      },
      "source": [
        "selected_rfe_features = pd.DataFrame({'Feature':list(X_train.columns),\n",
        "                                      'Ranking':rfe.ranking_})\n",
        "selected_rfe_features.sort_values(by='Ranking')"
      ],
      "execution_count": null,
      "outputs": [
        {
          "output_type": "execute_result",
          "data": {
            "text/html": [
              "<div>\n",
              "<style scoped>\n",
              "    .dataframe tbody tr th:only-of-type {\n",
              "        vertical-align: middle;\n",
              "    }\n",
              "\n",
              "    .dataframe tbody tr th {\n",
              "        vertical-align: top;\n",
              "    }\n",
              "\n",
              "    .dataframe thead th {\n",
              "        text-align: right;\n",
              "    }\n",
              "</style>\n",
              "<table border=\"1\" class=\"dataframe\">\n",
              "  <thead>\n",
              "    <tr style=\"text-align: right;\">\n",
              "      <th></th>\n",
              "      <th>Feature</th>\n",
              "      <th>Ranking</th>\n",
              "    </tr>\n",
              "  </thead>\n",
              "  <tbody>\n",
              "    <tr>\n",
              "      <th>0</th>\n",
              "      <td>preg</td>\n",
              "      <td>1</td>\n",
              "    </tr>\n",
              "    <tr>\n",
              "      <th>1</th>\n",
              "      <td>glucose</td>\n",
              "      <td>1</td>\n",
              "    </tr>\n",
              "    <tr>\n",
              "      <th>5</th>\n",
              "      <td>bmi</td>\n",
              "      <td>1</td>\n",
              "    </tr>\n",
              "    <tr>\n",
              "      <th>6</th>\n",
              "      <td>pedi</td>\n",
              "      <td>1</td>\n",
              "    </tr>\n",
              "    <tr>\n",
              "      <th>2</th>\n",
              "      <td>bp</td>\n",
              "      <td>2</td>\n",
              "    </tr>\n",
              "    <tr>\n",
              "      <th>7</th>\n",
              "      <td>age</td>\n",
              "      <td>3</td>\n",
              "    </tr>\n",
              "    <tr>\n",
              "      <th>3</th>\n",
              "      <td>skin</td>\n",
              "      <td>4</td>\n",
              "    </tr>\n",
              "    <tr>\n",
              "      <th>4</th>\n",
              "      <td>insulin</td>\n",
              "      <td>5</td>\n",
              "    </tr>\n",
              "  </tbody>\n",
              "</table>\n",
              "</div>"
            ],
            "text/plain": [
              "   Feature  Ranking\n",
              "0     preg        1\n",
              "1  glucose        1\n",
              "5      bmi        1\n",
              "6     pedi        1\n",
              "2       bp        2\n",
              "7      age        3\n",
              "3     skin        4\n",
              "4  insulin        5"
            ]
          },
          "metadata": {
            "tags": []
          },
          "execution_count": 13
        }
      ]
    },
    {
      "cell_type": "markdown",
      "metadata": {
        "id": "ykp4J_0FxRIe",
        "colab_type": "text"
      },
      "source": [
        "You can see that RFE gives preg, glucose, bmi and pedi the first rank. "
      ]
    },
    {
      "cell_type": "markdown",
      "metadata": {
        "id": "PWZQjKam85ee",
        "colab_type": "text"
      },
      "source": [
        "### Apply the transformation on to dataset\n",
        "\n",
        "Now that we have obtained which features have the best score, we'll use only those features to fit the model. \n",
        "\n",
        ".transform() reduces our data to the selected features. Always remember that train and test data is transformed separately."
      ]
    },
    {
      "cell_type": "code",
      "metadata": {
        "id": "B2DOXyef4z-U",
        "colab_type": "code",
        "colab": {}
      },
      "source": [
        "# Transforming the data\n",
        "X_train_rfe = rfe.transform(X_train)\n",
        "X_test_rfe = rfe.transform(X_test)"
      ],
      "execution_count": null,
      "outputs": []
    },
    {
      "cell_type": "code",
      "metadata": {
        "id": "xhTC1ZppN5tV",
        "colab_type": "code",
        "colab": {}
      },
      "source": [
        "# Fitting our baseline model with the transformed data\n",
        "lr_rfe_model = clf_lr.fit(X_train_rfe, y_train)"
      ],
      "execution_count": null,
      "outputs": []
    },
    {
      "cell_type": "code",
      "metadata": {
        "id": "8La5Ety-OGJ9",
        "colab_type": "code",
        "colab": {}
      },
      "source": [
        "# making predictions\n",
        "y_pred = lr_rfe_model.predict(X_test_rfe)"
      ],
      "execution_count": null,
      "outputs": []
    },
    {
      "cell_type": "code",
      "metadata": {
        "id": "DbP_4jo34_YK",
        "colab_type": "code",
        "colab": {
          "base_uri": "https://localhost:8080/",
          "height": 51
        },
        "outputId": "9f57075b-f434-4f34-bf83-eb9c69744a05"
      },
      "source": [
        "# evaluating the model\n",
        "rfe_ac = accuracy_score(y_test, y_pred)\n",
        "rfe_fscore = f1_score(y_test ,y_pred)\n",
        "\n",
        "print(\"RFE Model Accuracy:\", rfe_ac)\n",
        "print(\"RFE Model F1 Score:\", rfe_fscore)"
      ],
      "execution_count": null,
      "outputs": [
        {
          "output_type": "stream",
          "text": [
            "RFE Model Accuracy: 0.7716535433070866\n",
            "RFE Model F1 Score: 0.6375\n"
          ],
          "name": "stdout"
        }
      ]
    },
    {
      "cell_type": "markdown",
      "metadata": {
        "id": "tprqBtwaOdvr",
        "colab_type": "text"
      },
      "source": [
        "We can see an improvement in both accuracy and F1 score. \n",
        "\n",
        "Accuracy:  0.7677165354330708  ---> 0.7716535433070866\n",
        "\n",
        "F1 Score: 0.6143790849673203 ---> 0.6375\n"
      ]
    },
    {
      "cell_type": "markdown",
      "metadata": {
        "id": "YwVrVswgysid",
        "colab_type": "text"
      },
      "source": [
        "## 2. Feature Importance using Random Forest\n",
        "\n",
        "Feature importance is the technique used to select features using a trained supervised classifier. It gives you a score for each feature of your data, the higher the score more important or relevant is the feature towards your output variable.\n",
        "\n",
        "Bagged decision trees models like Random Forest can be used to estimate the importance of features.\n",
        "\n"
      ]
    },
    {
      "cell_type": "markdown",
      "metadata": {
        "id": "5IefBdZsR_1J",
        "colab_type": "text"
      },
      "source": [
        "### Train A Random Forest Classifier (Baseline Model)"
      ]
    },
    {
      "cell_type": "code",
      "metadata": {
        "id": "j6nWWoTj5NS0",
        "colab_type": "code",
        "colab": {}
      },
      "source": [
        "# import random forest classifier from sklearn.ensemble\n",
        "from sklearn.ensemble import RandomForestClassifier"
      ],
      "execution_count": null,
      "outputs": []
    },
    {
      "cell_type": "code",
      "metadata": {
        "id": "Y0M8LfJ75U77",
        "colab_type": "code",
        "colab": {}
      },
      "source": [
        "# Create a random forest classifier\n",
        "rf_clf = RandomForestClassifier(n_estimators=10000, random_state=1, n_jobs=-1)\n",
        "\n",
        "# n_estimators = The number of trees in the forest.\n",
        "# njobs: The number of jobs to run in parallel. -1 means using all processors.\n",
        "# Further information about parameters of random forest classifier: \n",
        "# https://scikit-learn.org/stable/modules/generated/sklearn.ensemble.RandomForestClassifier.html"
      ],
      "execution_count": null,
      "outputs": []
    },
    {
      "cell_type": "code",
      "metadata": {
        "id": "ysnILfLw6ATg",
        "colab_type": "code",
        "colab": {
          "base_uri": "https://localhost:8080/",
          "height": 154
        },
        "outputId": "953bebe6-2e54-4233-a339-16363a194a14"
      },
      "source": [
        "# Train the classifier\n",
        "rf_clf.fit(X_train, y_train)"
      ],
      "execution_count": null,
      "outputs": [
        {
          "output_type": "execute_result",
          "data": {
            "text/plain": [
              "RandomForestClassifier(bootstrap=True, ccp_alpha=0.0, class_weight=None,\n",
              "                       criterion='gini', max_depth=None, max_features='auto',\n",
              "                       max_leaf_nodes=None, max_samples=None,\n",
              "                       min_impurity_decrease=0.0, min_impurity_split=None,\n",
              "                       min_samples_leaf=1, min_samples_split=2,\n",
              "                       min_weight_fraction_leaf=0.0, n_estimators=10000,\n",
              "                       n_jobs=-1, oob_score=False, random_state=1, verbose=0,\n",
              "                       warm_start=False)"
            ]
          },
          "metadata": {
            "tags": []
          },
          "execution_count": 20
        }
      ]
    },
    {
      "cell_type": "code",
      "metadata": {
        "id": "n5RB4XC9R9mH",
        "colab_type": "code",
        "colab": {
          "base_uri": "https://localhost:8080/",
          "height": 265
        },
        "outputId": "509a2380-3b54-4b0b-d906-b75e7a88ffca"
      },
      "source": [
        "#plot graph of feature importances for better visualization\n",
        "feat_importances = pd.Series(rf_clf.feature_importances_, index=X_train.columns)     # Creating series of feature importances with column names as indexes\n",
        "feat_importances.nlargest(10).plot(kind='barh')\n",
        "plt.show()"
      ],
      "execution_count": null,
      "outputs": [
        {
          "output_type": "display_data",
          "data": {
            "image/png": "[encoded data removed]",
            "text/plain": [
              "<Figure size 432x288 with 1 Axes>"
            ]
          },
          "metadata": {
            "tags": [],
            "needs_background": "light"
          }
        }
      ]
    },
    {
      "cell_type": "markdown",
      "metadata": {
        "id": "gME7QlU1T7Mq",
        "colab_type": "text"
      },
      "source": [
        "The scores above are the importance scores for each variable. There are two things to note. First, all the importance scores add up to 100%. \n",
        "\n",
        "Second, glucose, bmi, age, pedi are the top 4 features. The individual score of each is above 0.13. When combined, these 4 features have an importance of around 67.8%. \n",
        "\n",
        "\n",
        "### Identify And Select Most Important Features"
      ]
    },
    {
      "cell_type": "code",
      "metadata": {
        "id": "y42L_vetT1LA",
        "colab_type": "code",
        "colab": {}
      },
      "source": [
        "from sklearn.feature_selection import SelectFromModel\n",
        "# Create a selector object that will use the random forest classifier to identify\n",
        "# features that have an importance of more than 0.13 ( all top 4 features lie above this)\n",
        "\n",
        "# rf_sfm = SelectFromModel(rf_clf, threshold=0.13)\n",
        "# It will select the same 4 features even without specifying the threshold:\n",
        "rf_sfm = SelectFromModel(rf_clf)"
      ],
      "execution_count": null,
      "outputs": []
    },
    {
      "cell_type": "code",
      "metadata": {
        "id": "6CREqAEr8U9Z",
        "colab_type": "code",
        "colab": {
          "base_uri": "https://localhost:8080/",
          "height": 308
        },
        "outputId": "22243b94-febe-485c-fc28-6f4df93b032a"
      },
      "source": [
        "# Train the selector\n",
        "rf_sfm.fit(X_train, y_train)"
      ],
      "execution_count": null,
      "outputs": [
        {
          "output_type": "execute_result",
          "data": {
            "text/plain": [
              "SelectFromModel(estimator=RandomForestClassifier(bootstrap=True, ccp_alpha=0.0,\n",
              "                                                 class_weight=None,\n",
              "                                                 criterion='gini',\n",
              "                                                 max_depth=None,\n",
              "                                                 max_features='auto',\n",
              "                                                 max_leaf_nodes=None,\n",
              "                                                 max_samples=None,\n",
              "                                                 min_impurity_decrease=0.0,\n",
              "                                                 min_impurity_split=None,\n",
              "                                                 min_samples_leaf=1,\n",
              "                                                 min_samples_split=2,\n",
              "                                                 min_weight_fraction_leaf=0.0,\n",
              "                                                 n_estimators=10000, n_jobs=-1,\n",
              "                                                 oob_score=False,\n",
              "                                                 random_state=1, verbose=0,\n",
              "                                                 warm_start=False),\n",
              "                max_features=None, norm_order=1, prefit=False, threshold=None)"
            ]
          },
          "metadata": {
            "tags": []
          },
          "execution_count": 23
        }
      ]
    },
    {
      "cell_type": "markdown",
      "metadata": {
        "id": "j-nOotMeaWdc",
        "colab_type": "text"
      },
      "source": [
        "### Create A Data Subset With Only The Most Important Features"
      ]
    },
    {
      "cell_type": "code",
      "metadata": {
        "id": "Egyp5cmVaMTZ",
        "colab_type": "code",
        "colab": {}
      },
      "source": [
        "# Transform the data to create a new dataset containing only the most important features\n",
        "# Note: We have to apply the transform to both the training X and test X data.\n",
        "X_important_train = rf_sfm.transform(X_train)\n",
        "X_important_test = rf_sfm.transform(X_test)"
      ],
      "execution_count": null,
      "outputs": []
    },
    {
      "cell_type": "markdown",
      "metadata": {
        "id": "3KpsrqIraQfA",
        "colab_type": "text"
      },
      "source": [
        "### Train A New Random Forest Classifier Using Only Most Important Features"
      ]
    },
    {
      "cell_type": "code",
      "metadata": {
        "id": "sDq-voSF8oId",
        "colab_type": "code",
        "colab": {}
      },
      "source": [
        "# Create a new random forest classifier for the most important features\n",
        "clf_important = RandomForestClassifier(n_estimators=10000, random_state=0, n_jobs=-1)"
      ],
      "execution_count": null,
      "outputs": []
    },
    {
      "cell_type": "code",
      "metadata": {
        "id": "f6McxVMgaYo5",
        "colab_type": "code",
        "colab": {
          "base_uri": "https://localhost:8080/",
          "height": 154
        },
        "outputId": "e1a3ac3c-b0d7-4fd8-fc81-f1c35bd4f6ef"
      },
      "source": [
        "# Train the new classifier on the new dataset containing the most important features\n",
        "clf_important.fit(X_important_train, y_train)"
      ],
      "execution_count": null,
      "outputs": [
        {
          "output_type": "execute_result",
          "data": {
            "text/plain": [
              "RandomForestClassifier(bootstrap=True, ccp_alpha=0.0, class_weight=None,\n",
              "                       criterion='gini', max_depth=None, max_features='auto',\n",
              "                       max_leaf_nodes=None, max_samples=None,\n",
              "                       min_impurity_decrease=0.0, min_impurity_split=None,\n",
              "                       min_samples_leaf=1, min_samples_split=2,\n",
              "                       min_weight_fraction_leaf=0.0, n_estimators=10000,\n",
              "                       n_jobs=-1, oob_score=False, random_state=0, verbose=0,\n",
              "                       warm_start=False)"
            ]
          },
          "metadata": {
            "tags": []
          },
          "execution_count": 26
        }
      ]
    },
    {
      "cell_type": "markdown",
      "metadata": {
        "id": "V3GKUp2Rahph",
        "colab_type": "text"
      },
      "source": [
        "### Compare The Accuracy Of Our Full Feature Classifier To Our Limited Feature Classifier"
      ]
    },
    {
      "cell_type": "code",
      "metadata": {
        "id": "MktpcTao8yKL",
        "colab_type": "code",
        "colab": {}
      },
      "source": [
        "# predict for X_test\n",
        "y_pred = rf_clf.predict(X_test)"
      ],
      "execution_count": null,
      "outputs": []
    },
    {
      "cell_type": "code",
      "metadata": {
        "id": "0xsdl7AGajNZ",
        "colab_type": "code",
        "colab": {
          "base_uri": "https://localhost:8080/",
          "height": 51
        },
        "outputId": "76c99d40-8964-4f07-f218-39d0def734ea"
      },
      "source": [
        "# Calculating accuracy score and f1 score for our baseline model i.e. model with 8 features\n",
        "rf_ac = accuracy_score(y_test, y_pred)\n",
        "rf_fscore = f1_score(y_test ,y_pred)\n",
        "\n",
        "# View The Accuracy Of Our Full Feature (8 Features) Model\n",
        "print(\"Baseline Model Accuracy:\", rf_ac)\n",
        "print(\"Baseline Model F1 Score:\", rf_fscore)"
      ],
      "execution_count": null,
      "outputs": [
        {
          "output_type": "stream",
          "text": [
            "Baseline Model Accuracy: 0.7637795275590551\n",
            "Baseline Model F1 Score: 0.620253164556962\n"
          ],
          "name": "stdout"
        }
      ]
    },
    {
      "cell_type": "code",
      "metadata": {
        "id": "ZyNF22tl9AEo",
        "colab_type": "code",
        "colab": {}
      },
      "source": [
        "# Apply The Full Featured Classifier To The Test Data\n",
        "y_important_pred = clf_important.predict(X_important_test)"
      ],
      "execution_count": null,
      "outputs": []
    },
    {
      "cell_type": "code",
      "metadata": {
        "id": "fNTVj9EtbMtn",
        "colab_type": "code",
        "colab": {
          "base_uri": "https://localhost:8080/",
          "height": 51
        },
        "outputId": "16e7f2cb-79b7-4fd6-f27f-bc6f1aa1a6aa"
      },
      "source": [
        "# Calculating accuracy score and f1 score for our limited feature (4 features) model\n",
        "rf_imp_ac = accuracy_score(y_test, y_important_pred)\n",
        "rf_imp_fscore = f1_score(y_test, y_important_pred)\n",
        "\n",
        "# View The Accuracy Of Our Limited Feature (4 Features) Model\n",
        "print(\"Limited Features Model Accuracy:\", rf_ac)\n",
        "print(\"Limited Features Model F1 Score:\", rf_fscore)"
      ],
      "execution_count": null,
      "outputs": [
        {
          "output_type": "stream",
          "text": [
            "Limited Features Model Accuracy: 0.7637795275590551\n",
            "Limited Features Model F1 Score: 0.620253164556962\n"
          ],
          "name": "stdout"
        }
      ]
    },
    {
      "cell_type": "markdown",
      "metadata": {
        "id": "NbZ0AATkbVcK",
        "colab_type": "text"
      },
      "source": [
        "As can be seen by the above metrics, the accuracy and F1 Score of our original model which contained all eight features and ‘limited’ model which contained only two features is the same. \n",
        "We have halved the number of features in the model without changing the accuracy which is great!"
      ]
    },
    {
      "cell_type": "markdown",
      "metadata": {
        "id": "TfCimzwD7LX2",
        "colab_type": "text"
      },
      "source": [
        "## 3. Boruta\n",
        " Boruta is an **all-relevant feature selection method**. Unlike other techniques that select small set of features that minimize the error, Boruta tries to capture all the important and interesting features you might have in your dataset with respect to the target variable.\n",
        "\n",
        "Boruta by default uses random forest although it works with other algorithms like LightGBM, XGBoost etc.\n",
        "\n",
        "NOTE:  BorutaPy accepts numpy arrays only.\n",
        "\n",
        "You can install Boruta with the command\n",
        "```\n",
        "pip install Boruta\n",
        "```\n",
        "\n"
      ]
    },
    {
      "cell_type": "code",
      "metadata": {
        "id": "uGAgCTbtJI7p",
        "colab_type": "code",
        "colab": {
          "base_uri": "https://localhost:8080/",
          "height": 191
        },
        "outputId": "71ab0aba-918f-478b-80c7-6e3dd01dd793"
      },
      "source": [
        "!pip install Boruta"
      ],
      "execution_count": null,
      "outputs": [
        {
          "output_type": "stream",
          "text": [
            "Collecting Boruta\n",
            "\u001b[?25l  Downloading https://files.pythonhosted.org/packages/b2/11/583f4eac99d802c79af9217e1eff56027742a69e6c866b295cce6a5a8fc2/Boruta-0.3-py3-none-any.whl (56kB)\n",
            "\r\u001b[K     |█████▉                          | 10kB 19.5MB/s eta 0:00:01\r\u001b[K     |███████████▋                    | 20kB 1.8MB/s eta 0:00:01\r\u001b[K     |█████████████████▍              | 30kB 2.3MB/s eta 0:00:01\r\u001b[K     |███████████████████████▏        | 40kB 2.6MB/s eta 0:00:01\r\u001b[K     |█████████████████████████████   | 51kB 2.1MB/s eta 0:00:01\r\u001b[K     |████████████████████████████████| 61kB 1.9MB/s \n",
            "\u001b[?25hRequirement already satisfied: scikit-learn>=0.17.1 in /usr/local/lib/python3.6/dist-packages (from Boruta) (0.22.2.post1)\n",
            "Requirement already satisfied: scipy>=0.17.0 in /usr/local/lib/python3.6/dist-packages (from Boruta) (1.4.1)\n",
            "Requirement already satisfied: numpy>=1.10.4 in /usr/local/lib/python3.6/dist-packages (from Boruta) (1.18.5)\n",
            "Requirement already satisfied: joblib>=0.11 in /usr/local/lib/python3.6/dist-packages (from scikit-learn>=0.17.1->Boruta) (0.15.1)\n",
            "Installing collected packages: Boruta\n",
            "Successfully installed Boruta-0.3\n"
          ],
          "name": "stdout"
        }
      ]
    },
    {
      "cell_type": "code",
      "metadata": {
        "id": "YGyqmk6h9iEp",
        "colab_type": "code",
        "colab": {}
      },
      "source": [
        "# import BorutaPy class from boruta library\n",
        "from boruta import BorutaPy"
      ],
      "execution_count": null,
      "outputs": []
    },
    {
      "cell_type": "code",
      "metadata": {
        "id": "vhoaH_md9t8v",
        "colab_type": "code",
        "colab": {}
      },
      "source": [
        "# define random forest classifier\n",
        "forest = RandomForestClassifier(n_jobs=-1, class_weight='balanced', max_depth=5, random_state=0)"
      ],
      "execution_count": null,
      "outputs": []
    },
    {
      "cell_type": "code",
      "metadata": {
        "id": "UTBHvV7i9yUj",
        "colab_type": "code",
        "colab": {
          "base_uri": "https://localhost:8080/",
          "height": 154
        },
        "outputId": "8a3f3954-9c3a-4c61-aa79-7692d40a685a"
      },
      "source": [
        "# build the random forest model\n",
        "forest.fit(X_train, y_train)"
      ],
      "execution_count": null,
      "outputs": [
        {
          "output_type": "execute_result",
          "data": {
            "text/plain": [
              "RandomForestClassifier(bootstrap=True, ccp_alpha=0.0, class_weight='balanced',\n",
              "                       criterion='gini', max_depth=5, max_features='auto',\n",
              "                       max_leaf_nodes=None, max_samples=None,\n",
              "                       min_impurity_decrease=0.0, min_impurity_split=None,\n",
              "                       min_samples_leaf=1, min_samples_split=2,\n",
              "                       min_weight_fraction_leaf=0.0, n_estimators=100,\n",
              "                       n_jobs=-1, oob_score=False, random_state=0, verbose=0,\n",
              "                       warm_start=False)"
            ]
          },
          "metadata": {
            "tags": []
          },
          "execution_count": 34
        }
      ]
    },
    {
      "cell_type": "code",
      "metadata": {
        "id": "_PHw4zEf94ls",
        "colab_type": "code",
        "colab": {}
      },
      "source": [
        "# predicting for X_test\n",
        "y_pred = forest.predict(X_test)"
      ],
      "execution_count": null,
      "outputs": []
    },
    {
      "cell_type": "code",
      "metadata": {
        "id": "EjWzvYIwBqhZ",
        "colab_type": "code",
        "colab": {
          "base_uri": "https://localhost:8080/",
          "height": 51
        },
        "outputId": "19e22c90-7541-4118-ca36-ab5cda96463a"
      },
      "source": [
        "# Calculating accuracy score and f1 score for model with full features\n",
        "ac = accuracy_score(y_test, y_pred)\n",
        "fscore = f1_score(y_test ,y_pred)\n",
        "\n",
        "# View The Accuracy Of Our Full Feature (8 Features) Model\n",
        "print(\"Baseline Model Accuracy:\", ac)\n",
        "print(\"Baseline Model F1 Score:\", fscore)"
      ],
      "execution_count": null,
      "outputs": [
        {
          "output_type": "stream",
          "text": [
            "Baseline Model Accuracy: 0.7874015748031497\n",
            "Baseline Model F1 Score: 0.7244897959183672\n"
          ],
          "name": "stdout"
        }
      ]
    },
    {
      "cell_type": "markdown",
      "metadata": {
        "id": "Rutjv7wm-JqF",
        "colab_type": "text"
      },
      "source": [
        "#### Boruta Feature Selection"
      ]
    },
    {
      "cell_type": "code",
      "metadata": {
        "id": "6iU__jrU-JNU",
        "colab_type": "code",
        "colab": {}
      },
      "source": [
        "# define Boruta feature selection method\n",
        "# boruta_selector = BorutaPy(forest, n_estimators='auto', verbose=2)\n",
        "boruta_selector = BorutaPy(forest, n_estimators='auto', verbose=2, random_state=1)"
      ],
      "execution_count": null,
      "outputs": []
    },
    {
      "cell_type": "code",
      "metadata": {
        "id": "T2kgcScyR9lu",
        "colab_type": "code",
        "colab": {
          "base_uri": "https://localhost:8080/",
          "height": 1000
        },
        "outputId": "5157c3db-3697-4ba2-d0e9-556bfa5822a7"
      },
      "source": [
        "# find all relevant features\n",
        "boruta_selector.fit(np.array(X_train), np.array(y_train))"
      ],
      "execution_count": null,
      "outputs": [
        {
          "output_type": "stream",
          "text": [
            "Iteration: \t1 / 100\n",
            "Confirmed: \t0\n",
            "Tentative: \t8\n",
            "Rejected: \t0\n",
            "Iteration: \t2 / 100\n",
            "Confirmed: \t0\n",
            "Tentative: \t8\n",
            "Rejected: \t0\n",
            "Iteration: \t3 / 100\n",
            "Confirmed: \t0\n",
            "Tentative: \t8\n",
            "Rejected: \t0\n",
            "Iteration: \t4 / 100\n",
            "Confirmed: \t0\n",
            "Tentative: \t8\n",
            "Rejected: \t0\n",
            "Iteration: \t5 / 100\n",
            "Confirmed: \t0\n",
            "Tentative: \t8\n",
            "Rejected: \t0\n",
            "Iteration: \t6 / 100\n",
            "Confirmed: \t0\n",
            "Tentative: \t8\n",
            "Rejected: \t0\n",
            "Iteration: \t7 / 100\n",
            "Confirmed: \t0\n",
            "Tentative: \t8\n",
            "Rejected: \t0\n",
            "Iteration: \t8 / 100\n",
            "Confirmed: \t4\n",
            "Tentative: \t3\n",
            "Rejected: \t1\n",
            "Iteration: \t9 / 100\n",
            "Confirmed: \t4\n",
            "Tentative: \t3\n",
            "Rejected: \t1\n",
            "Iteration: \t10 / 100\n",
            "Confirmed: \t4\n",
            "Tentative: \t3\n",
            "Rejected: \t1\n",
            "Iteration: \t11 / 100\n",
            "Confirmed: \t4\n",
            "Tentative: \t3\n",
            "Rejected: \t1\n",
            "Iteration: \t12 / 100\n",
            "Confirmed: \t4\n",
            "Tentative: \t3\n",
            "Rejected: \t1\n",
            "Iteration: \t13 / 100\n",
            "Confirmed: \t4\n",
            "Tentative: \t3\n",
            "Rejected: \t1\n",
            "Iteration: \t14 / 100\n",
            "Confirmed: \t4\n",
            "Tentative: \t3\n",
            "Rejected: \t1\n",
            "Iteration: \t15 / 100\n",
            "Confirmed: \t4\n",
            "Tentative: \t3\n",
            "Rejected: \t1\n",
            "Iteration: \t16 / 100\n",
            "Confirmed: \t4\n",
            "Tentative: \t3\n",
            "Rejected: \t1\n",
            "Iteration: \t17 / 100\n",
            "Confirmed: \t4\n",
            "Tentative: \t3\n",
            "Rejected: \t1\n",
            "Iteration: \t18 / 100\n",
            "Confirmed: \t4\n",
            "Tentative: \t3\n",
            "Rejected: \t1\n",
            "Iteration: \t19 / 100\n",
            "Confirmed: \t5\n",
            "Tentative: \t2\n",
            "Rejected: \t1\n",
            "Iteration: \t20 / 100\n",
            "Confirmed: \t5\n",
            "Tentative: \t2\n",
            "Rejected: \t1\n",
            "Iteration: \t21 / 100\n",
            "Confirmed: \t5\n",
            "Tentative: \t2\n",
            "Rejected: \t1\n",
            "Iteration: \t22 / 100\n",
            "Confirmed: \t5\n",
            "Tentative: \t2\n",
            "Rejected: \t1\n",
            "Iteration: \t23 / 100\n",
            "Confirmed: \t5\n",
            "Tentative: \t2\n",
            "Rejected: \t1\n",
            "Iteration: \t24 / 100\n",
            "Confirmed: \t5\n",
            "Tentative: \t2\n",
            "Rejected: \t1\n",
            "Iteration: \t25 / 100\n",
            "Confirmed: \t5\n",
            "Tentative: \t2\n",
            "Rejected: \t1\n",
            "Iteration: \t26 / 100\n",
            "Confirmed: \t5\n",
            "Tentative: \t2\n",
            "Rejected: \t1\n",
            "Iteration: \t27 / 100\n",
            "Confirmed: \t5\n",
            "Tentative: \t2\n",
            "Rejected: \t1\n",
            "Iteration: \t28 / 100\n",
            "Confirmed: \t5\n",
            "Tentative: \t2\n",
            "Rejected: \t1\n",
            "Iteration: \t29 / 100\n",
            "Confirmed: \t5\n",
            "Tentative: \t2\n",
            "Rejected: \t1\n",
            "Iteration: \t30 / 100\n",
            "Confirmed: \t5\n",
            "Tentative: \t2\n",
            "Rejected: \t1\n",
            "Iteration: \t31 / 100\n",
            "Confirmed: \t5\n",
            "Tentative: \t2\n",
            "Rejected: \t1\n",
            "Iteration: \t32 / 100\n",
            "Confirmed: \t5\n",
            "Tentative: \t2\n",
            "Rejected: \t1\n",
            "Iteration: \t33 / 100\n",
            "Confirmed: \t5\n",
            "Tentative: \t2\n",
            "Rejected: \t1\n",
            "Iteration: \t34 / 100\n",
            "Confirmed: \t5\n",
            "Tentative: \t2\n",
            "Rejected: \t1\n",
            "Iteration: \t35 / 100\n",
            "Confirmed: \t5\n",
            "Tentative: \t2\n",
            "Rejected: \t1\n",
            "Iteration: \t36 / 100\n",
            "Confirmed: \t5\n",
            "Tentative: \t2\n",
            "Rejected: \t1\n",
            "Iteration: \t37 / 100\n",
            "Confirmed: \t5\n",
            "Tentative: \t2\n",
            "Rejected: \t1\n",
            "Iteration: \t38 / 100\n",
            "Confirmed: \t5\n",
            "Tentative: \t2\n",
            "Rejected: \t1\n",
            "Iteration: \t39 / 100\n",
            "Confirmed: \t5\n",
            "Tentative: \t2\n",
            "Rejected: \t1\n",
            "Iteration: \t40 / 100\n",
            "Confirmed: \t5\n",
            "Tentative: \t2\n",
            "Rejected: \t1\n",
            "Iteration: \t41 / 100\n",
            "Confirmed: \t5\n",
            "Tentative: \t2\n",
            "Rejected: \t1\n",
            "Iteration: \t42 / 100\n",
            "Confirmed: \t5\n",
            "Tentative: \t2\n",
            "Rejected: \t1\n",
            "Iteration: \t43 / 100\n",
            "Confirmed: \t5\n",
            "Tentative: \t2\n",
            "Rejected: \t1\n",
            "Iteration: \t44 / 100\n",
            "Confirmed: \t5\n",
            "Tentative: \t2\n",
            "Rejected: \t1\n",
            "Iteration: \t45 / 100\n",
            "Confirmed: \t5\n",
            "Tentative: \t2\n",
            "Rejected: \t1\n",
            "Iteration: \t46 / 100\n",
            "Confirmed: \t5\n",
            "Tentative: \t2\n",
            "Rejected: \t1\n",
            "Iteration: \t47 / 100\n",
            "Confirmed: \t5\n",
            "Tentative: \t2\n",
            "Rejected: \t1\n",
            "Iteration: \t48 / 100\n",
            "Confirmed: \t5\n",
            "Tentative: \t2\n",
            "Rejected: \t1\n",
            "Iteration: \t49 / 100\n",
            "Confirmed: \t5\n",
            "Tentative: \t2\n",
            "Rejected: \t1\n",
            "Iteration: \t50 / 100\n",
            "Confirmed: \t5\n",
            "Tentative: \t2\n",
            "Rejected: \t1\n",
            "Iteration: \t51 / 100\n",
            "Confirmed: \t5\n",
            "Tentative: \t2\n",
            "Rejected: \t1\n",
            "Iteration: \t52 / 100\n",
            "Confirmed: \t5\n",
            "Tentative: \t2\n",
            "Rejected: \t1\n",
            "Iteration: \t53 / 100\n",
            "Confirmed: \t5\n",
            "Tentative: \t2\n",
            "Rejected: \t1\n",
            "Iteration: \t54 / 100\n",
            "Confirmed: \t5\n",
            "Tentative: \t2\n",
            "Rejected: \t1\n",
            "Iteration: \t55 / 100\n",
            "Confirmed: \t5\n",
            "Tentative: \t2\n",
            "Rejected: \t1\n",
            "Iteration: \t56 / 100\n",
            "Confirmed: \t5\n",
            "Tentative: \t2\n",
            "Rejected: \t1\n",
            "Iteration: \t57 / 100\n",
            "Confirmed: \t5\n",
            "Tentative: \t2\n",
            "Rejected: \t1\n",
            "Iteration: \t58 / 100\n",
            "Confirmed: \t5\n",
            "Tentative: \t2\n",
            "Rejected: \t1\n",
            "Iteration: \t59 / 100\n",
            "Confirmed: \t5\n",
            "Tentative: \t2\n",
            "Rejected: \t1\n",
            "Iteration: \t60 / 100\n",
            "Confirmed: \t5\n",
            "Tentative: \t2\n",
            "Rejected: \t1\n",
            "Iteration: \t61 / 100\n",
            "Confirmed: \t5\n",
            "Tentative: \t2\n",
            "Rejected: \t1\n",
            "Iteration: \t62 / 100\n",
            "Confirmed: \t5\n",
            "Tentative: \t2\n",
            "Rejected: \t1\n",
            "Iteration: \t63 / 100\n",
            "Confirmed: \t5\n",
            "Tentative: \t2\n",
            "Rejected: \t1\n",
            "Iteration: \t64 / 100\n",
            "Confirmed: \t5\n",
            "Tentative: \t2\n",
            "Rejected: \t1\n",
            "Iteration: \t65 / 100\n",
            "Confirmed: \t5\n",
            "Tentative: \t2\n",
            "Rejected: \t1\n",
            "Iteration: \t66 / 100\n",
            "Confirmed: \t5\n",
            "Tentative: \t2\n",
            "Rejected: \t1\n",
            "Iteration: \t67 / 100\n",
            "Confirmed: \t5\n",
            "Tentative: \t2\n",
            "Rejected: \t1\n",
            "Iteration: \t68 / 100\n",
            "Confirmed: \t5\n",
            "Tentative: \t2\n",
            "Rejected: \t1\n",
            "Iteration: \t69 / 100\n",
            "Confirmed: \t5\n",
            "Tentative: \t2\n",
            "Rejected: \t1\n",
            "Iteration: \t70 / 100\n",
            "Confirmed: \t5\n",
            "Tentative: \t2\n",
            "Rejected: \t1\n",
            "Iteration: \t71 / 100\n",
            "Confirmed: \t5\n",
            "Tentative: \t2\n",
            "Rejected: \t1\n",
            "Iteration: \t72 / 100\n",
            "Confirmed: \t5\n",
            "Tentative: \t2\n",
            "Rejected: \t1\n",
            "Iteration: \t73 / 100\n",
            "Confirmed: \t5\n",
            "Tentative: \t2\n",
            "Rejected: \t1\n",
            "Iteration: \t74 / 100\n",
            "Confirmed: \t5\n",
            "Tentative: \t2\n",
            "Rejected: \t1\n",
            "Iteration: \t75 / 100\n",
            "Confirmed: \t5\n",
            "Tentative: \t2\n",
            "Rejected: \t1\n",
            "Iteration: \t76 / 100\n",
            "Confirmed: \t5\n",
            "Tentative: \t2\n",
            "Rejected: \t1\n",
            "Iteration: \t77 / 100\n",
            "Confirmed: \t5\n",
            "Tentative: \t2\n",
            "Rejected: \t1\n",
            "Iteration: \t78 / 100\n",
            "Confirmed: \t5\n",
            "Tentative: \t2\n",
            "Rejected: \t1\n",
            "Iteration: \t79 / 100\n",
            "Confirmed: \t5\n",
            "Tentative: \t2\n",
            "Rejected: \t1\n",
            "Iteration: \t80 / 100\n",
            "Confirmed: \t5\n",
            "Tentative: \t2\n",
            "Rejected: \t1\n",
            "Iteration: \t81 / 100\n",
            "Confirmed: \t5\n",
            "Tentative: \t2\n",
            "Rejected: \t1\n",
            "Iteration: \t82 / 100\n",
            "Confirmed: \t5\n",
            "Tentative: \t2\n",
            "Rejected: \t1\n",
            "Iteration: \t83 / 100\n",
            "Confirmed: \t5\n",
            "Tentative: \t2\n",
            "Rejected: \t1\n",
            "Iteration: \t84 / 100\n",
            "Confirmed: \t5\n",
            "Tentative: \t2\n",
            "Rejected: \t1\n",
            "Iteration: \t85 / 100\n",
            "Confirmed: \t5\n",
            "Tentative: \t1\n",
            "Rejected: \t2\n",
            "Iteration: \t86 / 100\n",
            "Confirmed: \t5\n",
            "Tentative: \t1\n",
            "Rejected: \t2\n",
            "Iteration: \t87 / 100\n",
            "Confirmed: \t5\n",
            "Tentative: \t1\n",
            "Rejected: \t2\n",
            "Iteration: \t88 / 100\n",
            "Confirmed: \t5\n",
            "Tentative: \t1\n",
            "Rejected: \t2\n",
            "Iteration: \t89 / 100\n",
            "Confirmed: \t5\n",
            "Tentative: \t1\n",
            "Rejected: \t2\n",
            "Iteration: \t90 / 100\n",
            "Confirmed: \t5\n",
            "Tentative: \t1\n",
            "Rejected: \t2\n",
            "Iteration: \t91 / 100\n",
            "Confirmed: \t5\n",
            "Tentative: \t1\n",
            "Rejected: \t2\n",
            "Iteration: \t92 / 100\n",
            "Confirmed: \t5\n",
            "Tentative: \t1\n",
            "Rejected: \t2\n",
            "Iteration: \t93 / 100\n",
            "Confirmed: \t5\n",
            "Tentative: \t1\n",
            "Rejected: \t2\n",
            "Iteration: \t94 / 100\n",
            "Confirmed: \t5\n",
            "Tentative: \t1\n",
            "Rejected: \t2\n",
            "Iteration: \t95 / 100\n",
            "Confirmed: \t5\n",
            "Tentative: \t1\n",
            "Rejected: \t2\n",
            "Iteration: \t96 / 100\n",
            "Confirmed: \t5\n",
            "Tentative: \t1\n",
            "Rejected: \t2\n",
            "Iteration: \t97 / 100\n",
            "Confirmed: \t5\n",
            "Tentative: \t1\n",
            "Rejected: \t2\n",
            "Iteration: \t98 / 100\n",
            "Confirmed: \t5\n",
            "Tentative: \t1\n",
            "Rejected: \t2\n",
            "Iteration: \t99 / 100\n",
            "Confirmed: \t5\n",
            "Tentative: \t1\n",
            "Rejected: \t2\n",
            "\n",
            "\n",
            "BorutaPy finished running.\n",
            "\n",
            "Iteration: \t100 / 100\n",
            "Confirmed: \t5\n",
            "Tentative: \t1\n",
            "Rejected: \t2\n"
          ],
          "name": "stdout"
        },
        {
          "output_type": "execute_result",
          "data": {
            "text/plain": [
              "BorutaPy(alpha=0.05,\n",
              "         estimator=RandomForestClassifier(bootstrap=True, ccp_alpha=0.0,\n",
              "                                          class_weight='balanced',\n",
              "                                          criterion='gini', max_depth=5,\n",
              "                                          max_features='auto',\n",
              "                                          max_leaf_nodes=None, max_samples=None,\n",
              "                                          min_impurity_decrease=0.0,\n",
              "                                          min_impurity_split=None,\n",
              "                                          min_samples_leaf=1,\n",
              "                                          min_samples_split=2,\n",
              "                                          min_weight_fraction_leaf=0.0,\n",
              "                                          n_estimators=69, n_jobs=-1,\n",
              "                                          oob_score=False,\n",
              "                                          random_state=RandomState(MT19937) at 0x7F01F4CFB990,\n",
              "                                          verbose=0, warm_start=False),\n",
              "         max_iter=100, n_estimators='auto', perc=100,\n",
              "         random_state=RandomState(MT19937) at 0x7F01F4CFB990, two_step=True,\n",
              "         verbose=2)"
            ]
          },
          "metadata": {
            "tags": []
          },
          "execution_count": 38
        }
      ]
    },
    {
      "cell_type": "markdown",
      "metadata": {
        "id": "Q4HiUGzEFLDo",
        "colab_type": "text"
      },
      "source": [
        "As you saw above, Boruta categorises features into 3 categories - Confirmed, Tentative and Rejected. \n",
        "\n",
        "The features in the Tentative category are worked upon and put into one of Confirmed or Rejected. The Confirmed category features are said to be the significant/important features. "
      ]
    },
    {
      "cell_type": "code",
      "metadata": {
        "id": "lTNVFvtTCwOZ",
        "colab_type": "code",
        "colab": {
          "base_uri": "https://localhost:8080/",
          "height": 68
        },
        "outputId": "0072febb-4e09-453e-b2fd-eecf1f593c4c"
      },
      "source": [
        "# check selected features\n",
        "print(\"Selected Features: \", boruta_selector.support_)\n",
        " \n",
        "# check ranking of features\n",
        "print(\"Ranking: \",boruta_selector.ranking_)\n",
        "\n",
        "print(\"No. of significant features: \", boruta_selector.n_features_)"
      ],
      "execution_count": null,
      "outputs": [
        {
          "output_type": "stream",
          "text": [
            "Selected Features:  [False  True False False  True  True  True  True]\n",
            "Ranking:  [2 1 4 3 1 1 1 1]\n",
            "No. of significant features:  5\n"
          ],
          "name": "stdout"
        }
      ]
    },
    {
      "cell_type": "code",
      "metadata": {
        "id": "SHKsue1prc-K",
        "colab_type": "code",
        "colab": {
          "base_uri": "https://localhost:8080/",
          "height": 295
        },
        "outputId": "d1d6025b-551e-4652-bffd-603b8872020e"
      },
      "source": [
        "# Let's visualise it better in the form of a table\n",
        "selected_rfe_features = pd.DataFrame({'Feature':list(X_train.columns),\n",
        "                                      'Ranking':boruta_selector.ranking_})\n",
        "selected_rfe_features.sort_values(by='Ranking')"
      ],
      "execution_count": null,
      "outputs": [
        {
          "output_type": "execute_result",
          "data": {
            "text/html": [
              "<div>\n",
              "<style scoped>\n",
              "    .dataframe tbody tr th:only-of-type {\n",
              "        vertical-align: middle;\n",
              "    }\n",
              "\n",
              "    .dataframe tbody tr th {\n",
              "        vertical-align: top;\n",
              "    }\n",
              "\n",
              "    .dataframe thead th {\n",
              "        text-align: right;\n",
              "    }\n",
              "</style>\n",
              "<table border=\"1\" class=\"dataframe\">\n",
              "  <thead>\n",
              "    <tr style=\"text-align: right;\">\n",
              "      <th></th>\n",
              "      <th>Feature</th>\n",
              "      <th>Ranking</th>\n",
              "    </tr>\n",
              "  </thead>\n",
              "  <tbody>\n",
              "    <tr>\n",
              "      <th>1</th>\n",
              "      <td>glucose</td>\n",
              "      <td>1</td>\n",
              "    </tr>\n",
              "    <tr>\n",
              "      <th>4</th>\n",
              "      <td>insulin</td>\n",
              "      <td>1</td>\n",
              "    </tr>\n",
              "    <tr>\n",
              "      <th>5</th>\n",
              "      <td>bmi</td>\n",
              "      <td>1</td>\n",
              "    </tr>\n",
              "    <tr>\n",
              "      <th>6</th>\n",
              "      <td>pedi</td>\n",
              "      <td>1</td>\n",
              "    </tr>\n",
              "    <tr>\n",
              "      <th>7</th>\n",
              "      <td>age</td>\n",
              "      <td>1</td>\n",
              "    </tr>\n",
              "    <tr>\n",
              "      <th>0</th>\n",
              "      <td>preg</td>\n",
              "      <td>2</td>\n",
              "    </tr>\n",
              "    <tr>\n",
              "      <th>3</th>\n",
              "      <td>skin</td>\n",
              "      <td>3</td>\n",
              "    </tr>\n",
              "    <tr>\n",
              "      <th>2</th>\n",
              "      <td>bp</td>\n",
              "      <td>4</td>\n",
              "    </tr>\n",
              "  </tbody>\n",
              "</table>\n",
              "</div>"
            ],
            "text/plain": [
              "   Feature  Ranking\n",
              "1  glucose        1\n",
              "4  insulin        1\n",
              "5      bmi        1\n",
              "6     pedi        1\n",
              "7      age        1\n",
              "0     preg        2\n",
              "3     skin        3\n",
              "2       bp        4"
            ]
          },
          "metadata": {
            "tags": []
          },
          "execution_count": 40
        }
      ]
    },
    {
      "cell_type": "markdown",
      "metadata": {
        "id": "LdK0lKFqskxx",
        "colab_type": "text"
      },
      "source": [
        "Our model gave glucose, insulin, bmi, pedi and age the first rank."
      ]
    },
    {
      "cell_type": "markdown",
      "metadata": {
        "id": "-OxI2hCnDAao",
        "colab_type": "text"
      },
      "source": [
        "### Transformation using selected features\n",
        "Let's create a dataset with only these 5 features now."
      ]
    },
    {
      "cell_type": "code",
      "metadata": {
        "id": "GY1SRz60DHS_",
        "colab_type": "code",
        "colab": {}
      },
      "source": [
        "X_important_train = boruta_selector.transform(np.array(X_train))\n",
        "X_important_test = boruta_selector.transform(np.array(X_test))"
      ],
      "execution_count": null,
      "outputs": []
    },
    {
      "cell_type": "code",
      "metadata": {
        "id": "zwmG3P50_DXF",
        "colab_type": "code",
        "colab": {}
      },
      "source": [
        "# Create a new random forest classifier for the most important features\n",
        "rf_important = RandomForestClassifier(n_estimators=10000, random_state=0, n_jobs=-1)"
      ],
      "execution_count": null,
      "outputs": []
    },
    {
      "cell_type": "code",
      "metadata": {
        "id": "l8-2wrEsDXod",
        "colab_type": "code",
        "colab": {
          "base_uri": "https://localhost:8080/",
          "height": 154
        },
        "outputId": "38dfeab5-dbc6-4395-b468-13af9ba701fc"
      },
      "source": [
        "# Train the new classifier on the new dataset containing the most important features\n",
        "rf_important.fit(X_important_train, y_train)"
      ],
      "execution_count": null,
      "outputs": [
        {
          "output_type": "execute_result",
          "data": {
            "text/plain": [
              "RandomForestClassifier(bootstrap=True, ccp_alpha=0.0, class_weight=None,\n",
              "                       criterion='gini', max_depth=None, max_features='auto',\n",
              "                       max_leaf_nodes=None, max_samples=None,\n",
              "                       min_impurity_decrease=0.0, min_impurity_split=None,\n",
              "                       min_samples_leaf=1, min_samples_split=2,\n",
              "                       min_weight_fraction_leaf=0.0, n_estimators=10000,\n",
              "                       n_jobs=-1, oob_score=False, random_state=0, verbose=0,\n",
              "                       warm_start=False)"
            ]
          },
          "metadata": {
            "tags": []
          },
          "execution_count": 43
        }
      ]
    },
    {
      "cell_type": "code",
      "metadata": {
        "id": "3rMF7Dxk_VVr",
        "colab_type": "code",
        "colab": {}
      },
      "source": [
        "# Apply The Full Featured Classifier To The Test Data\n",
        "y_important_pred = rf_important.predict(X_important_test)"
      ],
      "execution_count": null,
      "outputs": []
    },
    {
      "cell_type": "code",
      "metadata": {
        "id": "GlORqbQoDeHf",
        "colab_type": "code",
        "colab": {
          "base_uri": "https://localhost:8080/",
          "height": 51
        },
        "outputId": "d8b4965b-3427-4cf0-9f3d-6d9ce64381da"
      },
      "source": [
        "# Calculate accuracy score and f1 score for limited feature model\n",
        "rf_imp_ac = accuracy_score(y_test, y_important_pred)\n",
        "rf_imp_fscore = f1_score(y_test, y_important_pred)\n",
        "\n",
        "# View The Accuracy Of Our Limited Feature (4 Features) Model\n",
        "print(\"Limited Features Boruta Model Accuracy:\", rf_imp_ac)\n",
        "print(\"Limited Features Boruta Model F1 Score:\", rf_imp_fscore)"
      ],
      "execution_count": null,
      "outputs": [
        {
          "output_type": "stream",
          "text": [
            "Limited Features Boruta Model Accuracy: 0.7755905511811023\n",
            "Limited Features Boruta Model F1 Score: 0.6459627329192545\n"
          ],
          "name": "stdout"
        }
      ]
    },
    {
      "cell_type": "markdown",
      "metadata": {
        "id": "vOsa_ANtiaDd",
        "colab_type": "text"
      },
      "source": [
        "Accuracy: 0.7874015748031497 -----> 0.7755905511811023\n",
        "\n",
        "F1 Score: 0.7244897959183672 -----> 0.6459627329192545\n",
        "\n",
        "The Accuracy and F1 Score dropped a bit on using Boruta. The no. of features have dropped from 8 to 5 however. This might be useful in cases where we want to reduce dimensionality even with some reduction in accuracy metrics."
      ]
    },
    {
      "cell_type": "markdown",
      "metadata": {
        "id": "mh2e8eOkMgb4",
        "colab_type": "text"
      },
      "source": [
        "## 4. XGBoost\n",
        "**Xgboost** is short for e**X**treme **G**radient **Boost**ing package.\n",
        "\n",
        "XGBoost model has the best combination of prediction performance and processing time compared to other algorithms. No wonder it is widely used in recent Data Science competitions.\n",
        "\n",
        "\n",
        "\n",
        "\n",
        "MUST READ: Learn about XGBoost here:\n",
        "https://towardsdatascience.com/https-medium-com-vishalmorde-xgboost-algorithm-long-she-may-rein-edd9f99be63d"
      ]
    },
    {
      "cell_type": "code",
      "metadata": {
        "id": "kLaEtpZE_0XT",
        "colab_type": "code",
        "colab": {}
      },
      "source": [
        "# Importing libraries\n",
        "from xgboost import XGBClassifier\n",
        "from xgboost import plot_importance"
      ],
      "execution_count": null,
      "outputs": []
    },
    {
      "cell_type": "code",
      "metadata": {
        "id": "w2jfs5IH_57j",
        "colab_type": "code",
        "colab": {
          "base_uri": "https://localhost:8080/",
          "height": 137
        },
        "outputId": "1b2c1006-cf09-47ed-f3da-ea5c32dfa640"
      },
      "source": [
        "# fit model to training data\n",
        "xgb_model = XGBClassifier()\n",
        "xgb_model.fit(X_train, y_train)"
      ],
      "execution_count": null,
      "outputs": [
        {
          "output_type": "execute_result",
          "data": {
            "text/plain": [
              "XGBClassifier(base_score=0.5, booster='gbtree', colsample_bylevel=1,\n",
              "              colsample_bynode=1, colsample_bytree=1, gamma=0,\n",
              "              learning_rate=0.1, max_delta_step=0, max_depth=3,\n",
              "              min_child_weight=1, missing=None, n_estimators=100, n_jobs=1,\n",
              "              nthread=None, objective='binary:logistic', random_state=0,\n",
              "              reg_alpha=0, reg_lambda=1, scale_pos_weight=1, seed=None,\n",
              "              silent=None, subsample=1, verbosity=1)"
            ]
          },
          "metadata": {
            "tags": []
          },
          "execution_count": 47
        }
      ]
    },
    {
      "cell_type": "code",
      "metadata": {
        "id": "nAYML3rBXiuW",
        "colab_type": "code",
        "colab": {
          "base_uri": "https://localhost:8080/",
          "height": 329
        },
        "outputId": "a396b37b-f6f0-4a1e-ad8b-5356f4cad458"
      },
      "source": [
        "print(\"Feature Importances : \", xgb_model.feature_importances_)\n",
        "\n",
        "# plot feature importance\n",
        "plot_importance(xgb_model)\n",
        "plt.show()"
      ],
      "execution_count": null,
      "outputs": [
        {
          "output_type": "stream",
          "text": [
            "Feature Importances :  [0.0746821  0.32840726 0.07829193 0.07849974 0.07324519 0.12814122\n",
            " 0.09585145 0.14288114]\n"
          ],
          "name": "stdout"
        },
        {
          "output_type": "display_data",
          "data": {
            "image/png": "[encoded data removed]",
            "text/plain": [
              "<Figure size 432x288 with 1 Axes>"
            ]
          },
          "metadata": {
            "tags": [],
            "needs_background": "light"
          }
        }
      ]
    },
    {
      "cell_type": "markdown",
      "metadata": {
        "id": "bCQsbXd3s66q",
        "colab_type": "text"
      },
      "source": [
        "XGBoost tells us that pedi, glucose, bmi and age are the top 4 features.\n"
      ]
    },
    {
      "cell_type": "code",
      "metadata": {
        "id": "DCngyf1mt8vG",
        "colab_type": "code",
        "colab": {
          "base_uri": "https://localhost:8080/",
          "height": 51
        },
        "outputId": "6b80259e-e562-4130-8c04-3e06ae378410"
      },
      "source": [
        "# Getting feature importance coefficients\n",
        "xgb_model.feature_importances_"
      ],
      "execution_count": null,
      "outputs": [
        {
          "output_type": "execute_result",
          "data": {
            "text/plain": [
              "array([0.0746821 , 0.32840726, 0.07829193, 0.07849974, 0.07324519,\n",
              "       0.12814122, 0.09585145, 0.14288114], dtype=float32)"
            ]
          },
          "metadata": {
            "tags": []
          },
          "execution_count": 54
        }
      ]
    },
    {
      "cell_type": "code",
      "metadata": {
        "id": "HkloMouaALO2",
        "colab_type": "code",
        "colab": {}
      },
      "source": [
        "# predict for X_test\n",
        "y_pred = xgb_model.predict(X_test)"
      ],
      "execution_count": null,
      "outputs": []
    },
    {
      "cell_type": "code",
      "metadata": {
        "id": "MFaur7NdiW5z",
        "colab_type": "code",
        "colab": {
          "base_uri": "https://localhost:8080/",
          "height": 51
        },
        "outputId": "24347b88-245c-488a-d753-f3b911b6020c"
      },
      "source": [
        "# Calculate accuracy and and f1 score\n",
        "xgb_ac = accuracy_score(y_test, y_pred)\n",
        "xgb_fscore = f1_score(y_test ,y_pred)\n",
        "\n",
        "print(\"XGB Baseline Model Accuracy:\", xgb_ac)\n",
        "print(\"XGB Baseline Model F1 Score:\", xgb_fscore)"
      ],
      "execution_count": null,
      "outputs": [
        {
          "output_type": "stream",
          "text": [
            "XGB Baseline Model Accuracy: 0.7598425196850394\n",
            "XGB Baseline Model F1 Score: 0.6432748538011697\n"
          ],
          "name": "stdout"
        }
      ]
    },
    {
      "cell_type": "code",
      "metadata": {
        "id": "STZA42vrGg3-",
        "colab_type": "code",
        "colab": {
          "base_uri": "https://localhost:8080/",
          "height": 51
        },
        "outputId": "d876e66a-dcd9-4e31-b489-f77d7beb5a8e"
      },
      "source": [
        "selection = SelectFromModel(xgb_model, threshold=thresh, prefit=True)\n",
        "\n",
        "# Transform the train and test features\n",
        "select_X_train = selection.transform(X_train)\n",
        "select_X_test = selection.transform(X_test) \n",
        "\n",
        "# train model\n",
        "selection_model = XGBClassifier()\n",
        "selection_model.fit(select_X_train, y_train)\n",
        "\n",
        "# Evaluating the model\n",
        "predictions = selection_model.predict(select_X_test)      # predict for selected features of X_test\n",
        "xgb_accuracy = accuracy_score(y_test, predictions)        # Calculating accuracy score on test data\n",
        "xgb_fscore = f1_score(y_test , predictions) \n",
        "\n",
        "\n",
        "# View The Accuracy Of Our Limited Feature (4 Features) Model\n",
        "print(\"Limited Features Boruta Model Accuracy:\", rf_imp_ac)\n",
        "print(\"Limited Features Boruta Model F1 Score:\", rf_imp_fscore)"
      ],
      "execution_count": null,
      "outputs": [
        {
          "output_type": "stream",
          "text": [
            "Limited Features Boruta Model Accuracy: 0.7755905511811023\n",
            "Limited Features Boruta Model F1 Score: 0.6459627329192545\n"
          ],
          "name": "stdout"
        }
      ]
    },
    {
      "cell_type": "code",
      "metadata": {
        "id": "znLAuaUeAk3T",
        "colab_type": "code",
        "colab": {}
      },
      "source": [
        "from numpy import sort\n",
        "\n",
        "# sort the thresholds (i.e. feature importances)\n",
        "thresholds = sort(xgb_model.feature_importances_)"
      ],
      "execution_count": null,
      "outputs": []
    },
    {
      "cell_type": "code",
      "metadata": {
        "id": "7TSU4pGltmhy",
        "colab_type": "code",
        "colab": {
          "base_uri": "https://localhost:8080/",
          "height": 154
        },
        "outputId": "0e6fa49b-8612-48bf-ea20-11b19c1cf7b9"
      },
      "source": [
        "# Fit model using each importance as a threshold\n",
        "\n",
        "for thresh in thresholds:\n",
        "\n",
        "  # select features using threshold\n",
        "  selection = SelectFromModel(xgb_model, threshold=thresh, prefit=True)\n",
        "\n",
        "  # Transform the train features\n",
        "  select_X_train = selection.transform(X_train)\n",
        "\n",
        "  # train model\n",
        "  selection_model = XGBClassifier()\n",
        "  selection_model.fit(select_X_train, y_train)\n",
        "  \n",
        "  # Evaluating the model\n",
        "  select_X_test = selection.transform(X_test)               # Transform the test features\n",
        "  predictions = selection_model.predict(select_X_test)      # predict for selected features of X_test\n",
        "  xgb_accuracy = accuracy_score(y_test, predictions)        # Calculating accuracy score on test data\n",
        "  xgb_fscore = f1_score(y_test , predictions)               # Calculating f1 score on test data\n",
        "\n",
        "  # print the threshold value, number of features, accuracy, f1 score\n",
        "  print(\"Thresh=%.3f, n=%d, Accuracy: %.2f%%, F1 Score:%.3f \" % (thresh, select_X_train.shape[1], xgb_accuracy*100.0, xgb_fscore))"
      ],
      "execution_count": null,
      "outputs": [
        {
          "output_type": "stream",
          "text": [
            "Thresh=0.073, n=8, Accuracy: 75.98%, F1 Score:0.643 \n",
            "Thresh=0.075, n=7, Accuracy: 76.77%, F1 Score:0.659 \n",
            "Thresh=0.078, n=6, Accuracy: 77.56%, F1 Score:0.663 \n",
            "Thresh=0.078, n=5, Accuracy: 76.77%, F1 Score:0.647 \n",
            "Thresh=0.096, n=4, Accuracy: 75.98%, F1 Score:0.639 \n",
            "Thresh=0.128, n=3, Accuracy: 77.95%, F1 Score:0.678 \n",
            "Thresh=0.143, n=2, Accuracy: 74.41%, F1 Score:0.606 \n",
            "Thresh=0.328, n=1, Accuracy: 72.83%, F1 Score:0.561 \n"
          ],
          "name": "stdout"
        }
      ]
    },
    {
      "cell_type": "markdown",
      "metadata": {
        "id": "rbOykWsRv8cs",
        "colab_type": "text"
      },
      "source": [
        "XGBoost was able to achieve a pretty good accuracy and F1 Score keeping threshold as 0.128( selects only 3 features- pedi, glucose and bmi). \n",
        "\n",
        "Accuracy: 0.7598425196850394 ---> 0.7795\n",
        "\n",
        "F1 Score: 0.6432748538011697 ---> 0.678\n",
        "\n"
      ]
    },
    {
      "cell_type": "markdown",
      "metadata": {
        "id": "Vfw-VN63nsrr",
        "colab_type": "text"
      },
      "source": [
        "## Conclusion\n",
        "\n",
        "- We started with observing the heatmap of our data and derived glucose, bmi, age, preg, pedi and insulin to be the top 6 positively correlated features.\n",
        "- Our baseline Logistic Regression model using all the features gave an accuracy of 0.767 and F1 Score of 0.614.\n",
        "- On implementing the Recursive Feature Elimination technique(claimed preg, glucose, bmi, pedi as top 4 features) on Logistic Regression model, we observed significant change in both the metrics. The accuracy improved to 0.771 and F1 Score to 0.637.\n",
        "- Feature Importance technique using RandomForestClassifier stated that glucose, age, bmi, pedi and preg are the most important features of our dataset. Using this, we were able to half the number of features in the model without changing the accuracy.\n",
        "- Boruta didn't improve the accuracy but was able to reduce the number of features to 5.\n",
        "- XGBoost gave the best results by giving an accuracy of 0.7795 and F1 Score of 0.678.\n",
        "- After implementing the 4 techniques, we can see that all of them gave us similar set of important features. \n",
        "\n"
      ]
    },
    {
      "cell_type": "markdown",
      "metadata": {
        "id": "B9_lYzO8v-KY",
        "colab_type": "text"
      },
      "source": [
        "## General Advice\n",
        "- Start with simple techniques.\n",
        "- Always check if what you're doing is helping(increasing your model's accuracy) or hurting. \n",
        "- Don't assume that any given technique is useful.\n",
        "- Not all the feature selection techniques are available in Sklearn. When you're coding a technique on your own, it's easier to make mistakes and that's a lot of work. Therefore, it's better to first focus on the techniques built in Sklearn itself. \n",
        "- Feature selection is a decisive part of a machine learning pipeline: being too conservative means introducing unnecessary noise, while being too aggressive means throwing away useful information.\n",
        "\n",
        "\n",
        "Watch this video you want to learn more about other feature selection techniques: https://www.youtube.com/watch?v=YaKMeAlHgqQ"
      ]
    }
  ]
}